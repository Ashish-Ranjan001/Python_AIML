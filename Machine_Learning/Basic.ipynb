{
 "cells": [
  {
   "cell_type": "code",
   "execution_count": 1,
   "id": "cf4b6316",
   "metadata": {},
   "outputs": [],
   "source": [
    "import pandas as pd\n",
    "data = pd.read_csv('police.csv')"
   ]
  },
  {
   "cell_type": "code",
   "execution_count": 2,
   "id": "819b3bd0",
   "metadata": {},
   "outputs": [
    {
     "name": "stdout",
     "output_type": "stream",
     "text": [
      "    stop_date stop_time  county_name driver_gender  driver_age_raw  \\\n",
      "0  2005-01-02     01:55          NaN             M          1985.0   \n",
      "1  2005-01-18     08:15          NaN             M          1965.0   \n",
      "2  2005-01-23     23:15          NaN             M          1972.0   \n",
      "3  2005-02-20     17:15          NaN             M          1986.0   \n",
      "4  2005-03-14     10:00          NaN             F          1984.0   \n",
      "\n",
      "   driver_age driver_race     violation_raw violation  search_conducted  \\\n",
      "0        20.0       White          Speeding  Speeding             False   \n",
      "1        40.0       White          Speeding  Speeding             False   \n",
      "2        33.0       White          Speeding  Speeding             False   \n",
      "3        19.0       White  Call for Service     Other             False   \n",
      "4        21.0       White          Speeding  Speeding             False   \n",
      "\n",
      "  search_type   stop_outcome is_arrested stop_duration  drugs_related_stop  \n",
      "0         NaN       Citation       False      0-15 Min               False  \n",
      "1         NaN       Citation       False      0-15 Min               False  \n",
      "2         NaN       Citation       False      0-15 Min               False  \n",
      "3         NaN  Arrest Driver        True     16-30 Min               False  \n",
      "4         NaN       Citation       False      0-15 Min               False  \n"
     ]
    }
   ],
   "source": [
    "print (data.head())"
   ]
  },
  {
   "cell_type": "code",
   "execution_count": 3,
   "id": "0192f59d",
   "metadata": {},
   "outputs": [
    {
     "name": "stdout",
     "output_type": "stream",
     "text": [
      "(91741, 15)\n"
     ]
    }
   ],
   "source": [
    "print(data.shape)"
   ]
  },
  {
   "cell_type": "code",
   "execution_count": 5,
   "id": "85dc2a8d",
   "metadata": {},
   "outputs": [
    {
     "name": "stdout",
     "output_type": "stream",
     "text": [
      "       stop_date  stop_time  county_name  driver_gender  driver_age_raw  \\\n",
      "0          False      False         True          False           False   \n",
      "1          False      False         True          False           False   \n",
      "2          False      False         True          False           False   \n",
      "3          False      False         True          False           False   \n",
      "4          False      False         True          False           False   \n",
      "...          ...        ...          ...            ...             ...   \n",
      "91736      False      False         True          False           False   \n",
      "91737      False      False         True          False           False   \n",
      "91738      False      False         True          False           False   \n",
      "91739      False      False         True          False           False   \n",
      "91740      False      False         True          False           False   \n",
      "\n",
      "       driver_age  driver_race  violation_raw  violation  search_conducted  \\\n",
      "0           False        False          False      False             False   \n",
      "1           False        False          False      False             False   \n",
      "2           False        False          False      False             False   \n",
      "3           False        False          False      False             False   \n",
      "4           False        False          False      False             False   \n",
      "...           ...          ...            ...        ...               ...   \n",
      "91736       False        False          False      False             False   \n",
      "91737       False        False          False      False             False   \n",
      "91738       False        False          False      False             False   \n",
      "91739       False        False          False      False             False   \n",
      "91740       False        False          False      False             False   \n",
      "\n",
      "       search_type  stop_outcome  is_arrested  stop_duration  \\\n",
      "0             True         False        False          False   \n",
      "1             True         False        False          False   \n",
      "2             True         False        False          False   \n",
      "3             True         False        False          False   \n",
      "4             True         False        False          False   \n",
      "...            ...           ...          ...            ...   \n",
      "91736         True         False        False          False   \n",
      "91737         True         False        False          False   \n",
      "91738         True         False        False          False   \n",
      "91739         True         False        False          False   \n",
      "91740         True         False        False          False   \n",
      "\n",
      "       drugs_related_stop  \n",
      "0                   False  \n",
      "1                   False  \n",
      "2                   False  \n",
      "3                   False  \n",
      "4                   False  \n",
      "...                   ...  \n",
      "91736               False  \n",
      "91737               False  \n",
      "91738               False  \n",
      "91739               False  \n",
      "91740               False  \n",
      "\n",
      "[91741 rows x 15 columns]\n"
     ]
    }
   ],
   "source": [
    "print (data.isnull())"
   ]
  },
  {
   "cell_type": "code",
   "execution_count": 7,
   "id": "f6b633f4",
   "metadata": {},
   "outputs": [
    {
     "name": "stdout",
     "output_type": "stream",
     "text": [
      "stop_date                 0\n",
      "stop_time                 0\n",
      "county_name           91741\n",
      "driver_gender          5335\n",
      "driver_age_raw         5327\n",
      "driver_age             5621\n",
      "driver_race            5333\n",
      "violation_raw          5333\n",
      "violation              5333\n",
      "search_conducted          0\n",
      "search_type           88545\n",
      "stop_outcome           5333\n",
      "is_arrested            5333\n",
      "stop_duration          5333\n",
      "drugs_related_stop        0\n",
      "dtype: int64\n"
     ]
    }
   ],
   "source": [
    "print(data.isnull().sum())"
   ]
  },
  {
   "cell_type": "code",
   "execution_count": 8,
   "id": "6cf40fbd",
   "metadata": {},
   "outputs": [
    {
     "data": {
      "text/plain": [
       "stop_date               0.000000\n",
       "stop_time               0.000000\n",
       "county_name           100.000000\n",
       "driver_gender           5.815284\n",
       "driver_age_raw          5.806564\n",
       "driver_age              6.127032\n",
       "driver_race             5.813104\n",
       "violation_raw           5.813104\n",
       "violation               5.813104\n",
       "search_conducted        0.000000\n",
       "search_type            96.516280\n",
       "stop_outcome            5.813104\n",
       "is_arrested             5.813104\n",
       "stop_duration           5.813104\n",
       "drugs_related_stop      0.000000\n",
       "dtype: float64"
      ]
     },
     "execution_count": 8,
     "metadata": {},
     "output_type": "execute_result"
    }
   ],
   "source": [
    "data.isnull().sum()/data.shape[0] * 100\n"
   ]
  },
  {
   "cell_type": "code",
   "execution_count": 9,
   "id": "e46fb1db",
   "metadata": {},
   "outputs": [
    {
     "data": {
      "text/plain": [
       "np.int64(228567)"
      ]
     },
     "execution_count": 9,
     "metadata": {},
     "output_type": "execute_result"
    }
   ],
   "source": [
    "data.isnull().sum().sum()  # Total number of missing values"
   ]
  },
  {
   "cell_type": "code",
   "execution_count": 10,
   "id": "28aff9d9",
   "metadata": {},
   "outputs": [
    {
     "data": {
      "text/plain": [
       "np.float64(16.60958568142924)"
      ]
     },
     "execution_count": 10,
     "metadata": {},
     "output_type": "execute_result"
    }
   ],
   "source": [
    "data.isnull().sum().sum()/(data.shape[0] * data.shape[1]) * 100  # Percentage of missing values in the dataset"
   ]
  }
 ],
 "metadata": {
  "kernelspec": {
   "display_name": "Python 3",
   "language": "python",
   "name": "python3"
  },
  "language_info": {
   "codemirror_mode": {
    "name": "ipython",
    "version": 3
   },
   "file_extension": ".py",
   "mimetype": "text/x-python",
   "name": "python",
   "nbconvert_exporter": "python",
   "pygments_lexer": "ipython3",
   "version": "3.13.5"
  }
 },
 "nbformat": 4,
 "nbformat_minor": 5
}
