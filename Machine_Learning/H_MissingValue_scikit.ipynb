{
 "cells": [
  {
   "cell_type": "code",
   "execution_count": null,
   "id": "fd53b009",
   "metadata": {},
   "outputs": [],
   "source": [
    "import seaborn as sns\n",
    "import matplotlib.pyplot as plt\n",
    "import pandas as pd\n",
    "import sklearn as sk\n",
    "import sklearn.impute as imputer    \n",
    "dataset= pd.read_csv('police.csv')\n",
    "https://github.com/Ashish-Ranjan001/Python_AIML.git"
   ]
  }
 ],
 "metadata": {
  "language_info": {
   "name": "python"
  }
 },
 "nbformat": 4,
 "nbformat_minor": 5
}
