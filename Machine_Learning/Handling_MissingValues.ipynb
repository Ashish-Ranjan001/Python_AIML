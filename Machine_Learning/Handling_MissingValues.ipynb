{
 "cells": [
  {
   "cell_type": "code",
   "execution_count": 1,
   "id": "aea3b24b",
   "metadata": {},
   "outputs": [],
   "source": [
    "import seaborn as sns\n",
    "import matplotlib.pyplot as plt\n",
    "import pandas as pd\n",
    "\n",
    "dataset= pd.read_csv('police.csv')\n"
   ]
  },
  {
   "cell_type": "code",
   "execution_count": 4,
   "id": "25aea528",
   "metadata": {},
   "outputs": [],
   "source": [
    "dataset.drop(columns=[\"county_name\"], inplace=True)  # Drop the 'county_name' column"
   ]
  },
  {
   "cell_type": "code",
   "execution_count": 6,
   "id": "479dbd25",
   "metadata": {},
   "outputs": [
    {
     "name": "stdout",
     "output_type": "stream",
     "text": [
      "(91741, 14)\n"
     ]
    }
   ],
   "source": [
    "print(dataset.shape)"
   ]
  },
  {
   "cell_type": "code",
   "execution_count": 9,
   "id": "c0dcb2fa",
   "metadata": {},
   "outputs": [
    {
     "name": "stdout",
     "output_type": "stream",
     "text": [
      "<class 'pandas.core.frame.DataFrame'>\n",
      "RangeIndex: 91741 entries, 0 to 91740\n",
      "Data columns (total 14 columns):\n",
      " #   Column              Non-Null Count  Dtype  \n",
      "---  ------              --------------  -----  \n",
      " 0   stop_date           91741 non-null  object \n",
      " 1   stop_time           91741 non-null  object \n",
      " 2   driver_gender       86406 non-null  object \n",
      " 3   driver_age_raw      86414 non-null  float64\n",
      " 4   driver_age          86120 non-null  float64\n",
      " 5   driver_race         86408 non-null  object \n",
      " 6   violation_raw       86408 non-null  object \n",
      " 7   violation           86408 non-null  object \n",
      " 8   search_conducted    91741 non-null  bool   \n",
      " 9   search_type         3196 non-null   object \n",
      " 10  stop_outcome        86408 non-null  object \n",
      " 11  is_arrested         86408 non-null  object \n",
      " 12  stop_duration       86408 non-null  object \n",
      " 13  drugs_related_stop  91741 non-null  bool   \n",
      "dtypes: bool(2), float64(2), object(10)\n",
      "memory usage: 8.6+ MB\n"
     ]
    }
   ],
   "source": [
    "dataset.info()\n"
   ]
  },
  {
   "cell_type": "code",
   "execution_count": 21,
   "id": "2bee93d2",
   "metadata": {},
   "outputs": [
    {
     "name": "stderr",
     "output_type": "stream",
     "text": [
      "C:\\Users\\Ashish.Ranjan\\AppData\\Local\\Temp\\ipykernel_22796\\3208782744.py:2: FutureWarning: A value is trying to be set on a copy of a DataFrame or Series through chained assignment using an inplace method.\n",
      "The behavior will change in pandas 3.0. This inplace method will never work because the intermediate object on which we are setting values always behaves as a copy.\n",
      "\n",
      "For example, when doing 'df[col].method(value, inplace=True)', try using 'df.method({col: value}, inplace=True)' or df[col] = df[col].method(value) instead, to perform the operation inplace on the original object.\n",
      "\n",
      "\n",
      "  dataset[i].fillna(dataset[i].mode()[0], inplace=True)\n"
     ]
    }
   ],
   "source": [
    "for i in dataset.select_dtypes(include=\"object\").columns:\n",
    "        dataset[i].fillna(dataset[i].mode()[0], inplace=True)"
   ]
  },
  {
   "cell_type": "code",
   "execution_count": 22,
   "id": "76e447fe",
   "metadata": {},
   "outputs": [
    {
     "data": {
      "text/plain": [
       "np.float64(0.0)"
      ]
     },
     "execution_count": 22,
     "metadata": {},
     "output_type": "execute_result"
    }
   ],
   "source": [
    "\n",
    "dataset.isnull().sum().sum()/(dataset.shape[0] * dataset.shape[1]) * 100  # Percentage of missing values in the dataset"
   ]
  },
  {
   "cell_type": "code",
   "execution_count": 14,
   "id": "1c05c579",
   "metadata": {},
   "outputs": [
    {
     "data": {
      "text/plain": [
       "np.int64(10948)"
      ]
     },
     "execution_count": 14,
     "metadata": {},
     "output_type": "execute_result"
    }
   ],
   "source": [
    "dataset.isnull().sum().sum()  # Total number of missing values"
   ]
  },
  {
   "cell_type": "code",
   "execution_count": 17,
   "id": "7bb4b87f",
   "metadata": {},
   "outputs": [
    {
     "name": "stderr",
     "output_type": "stream",
     "text": [
      "C:\\Users\\Ashish.Ranjan\\AppData\\Local\\Temp\\ipykernel_22796\\1212111419.py:2: FutureWarning: A value is trying to be set on a copy of a DataFrame or Series through chained assignment using an inplace method.\n",
      "The behavior will change in pandas 3.0. This inplace method will never work because the intermediate object on which we are setting values always behaves as a copy.\n",
      "\n",
      "For example, when doing 'df[col].method(value, inplace=True)', try using 'df.method({col: value}, inplace=True)' or df[col] = df[col].method(value) instead, to perform the operation inplace on the original object.\n",
      "\n",
      "\n",
      "  dataset[col].fillna(dataset[col].mean(), inplace=True)\n"
     ]
    }
   ],
   "source": [
    "\n",
    "for col in dataset.select_dtypes(include='number').columns:\n",
    "    dataset[col].fillna(dataset[col].mean(), inplace=True) "
   ]
  }
 ],
 "metadata": {
  "kernelspec": {
   "display_name": "Python 3",
   "language": "python",
   "name": "python3"
  },
  "language_info": {
   "codemirror_mode": {
    "name": "ipython",
    "version": 3
   },
   "file_extension": ".py",
   "mimetype": "text/x-python",
   "name": "python",
   "nbconvert_exporter": "python",
   "pygments_lexer": "ipython3",
   "version": "3.13.5"
  }
 },
 "nbformat": 4,
 "nbformat_minor": 5
}
